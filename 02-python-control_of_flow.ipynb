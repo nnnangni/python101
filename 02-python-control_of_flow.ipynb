{
 "cells": [
  {
   "cell_type": "markdown",
   "metadata": {
    "slideshow": {
     "slide_type": "slide"
    }
   },
   "source": [
    "# 조건문\n",
    "\n",
    "지금까지의 코드는 위에서부터 아래로 순차적으로 명령을 수행하는 프로그램을 작성하였다. \n",
    "\n",
    "제어문(Control of Flow)은 크게 반복문과 조건문으로 나눌 수 있고, 이는 순서도(Flow chart로 표현이 가능하다.)\n",
    "\n",
    "\n",
    "<center> \n",
    "    <img src=\"./images/02/if.png\", alt='if flowchart'/>\n",
    "</center>\n"
   ]
  },
  {
   "cell_type": "code",
   "execution_count": 3,
   "metadata": {
    "scrolled": true,
    "slideshow": {
     "slide_type": "subslide"
    }
   },
   "outputs": [
    {
     "name": "stdout",
     "output_type": "stream",
     "text": [
      "5 이하\n",
      "5\n"
     ]
    }
   ],
   "source": [
    "# 위의 flow chart를 조건문을 통해 만들어봅시다.\n",
    "a = 5\n",
    "if a > 5:\n",
    "    print(\"5 초과\")\n",
    "else:\n",
    "    print(\"5 이하\")\n",
    "print(a)"
   ]
  },
  {
   "cell_type": "markdown",
   "metadata": {
    "slideshow": {
     "slide_type": "slide"
    }
   },
   "source": [
    "## 조건문 문법\n",
    "\n",
    "1. `if` 문은 반드시 일정한 참/거짓을 판단할 수 있는 `조건식`과 함께 사용이 되어야한다.\n",
    "`if <조건식>:`\n",
    "\n",
    "2-1. `<조건식>`이 참인 경우 `:` 이후의 문장을 수행한다.\n",
    "\n",
    "2-2. `<조건식>`이 거짓인 경우 `else:` 이후의 문장을 수행한다.\n",
    "\n",
    "* 이때 반드시 **들여쓰기를** 유의해야한다. \n",
    "파이썬에서는 코드 블록을 자바나 C언어의 `{}`와 달리 `들여쓰기`로 판단하기 때문이다.\n",
    "* 앞으로 우리는 `PEP-8`에서 권장하는 `4spaces`를 사용할 것이다.\n"
   ]
  },
  {
   "cell_type": "markdown",
   "metadata": {},
   "source": [
    "<center>\n",
    "    <img src=\"./images/02/if_style.png\", alt=\"if style\"/>\n",
    "</center>"
   ]
  },
  {
   "cell_type": "markdown",
   "metadata": {
    "slideshow": {
     "slide_type": "subslide"
    }
   },
   "source": [
    "<center><strong style=\"font-size: 40px;\">우리는 4spaces를 맞춰서 씁니다!</strong></center>\n",
    "<br>\n",
    "\n",
    "<center>\n",
    "    <img src=\"./images/02/spacetab.png\", alt=\"[space vs tab]\"/>\n",
    "</center>    \n",
    "\n",
    "\n",
    "\n",
    "\n",
    "[출처 : 400,000 GitHub repositories, 1 billion files, 14 terabytes of code: Spaces or Tabs?](https://medium.com/@hoffa/400-000-github-repositories-1-billion-files-14-terabytes-of-code-spaces-or-tabs-7cfe0b5dd7fd)\n"
   ]
  },
  {
   "cell_type": "markdown",
   "metadata": {},
   "source": [
    "### 실습문제1 - 조건문 기초 활용\n",
    "\n",
    "\n",
    "> **조건문을 통해 변수 num의 값과 홀수/짝수 여부를 출력하세요.**\n",
    "\n",
    "---\n",
    "\n",
    "```\n",
    "예시 출력)\n",
    "3\n",
    "홀수입니다.\n",
    "```"
   ]
  },
  {
   "cell_type": "code",
   "execution_count": 4,
   "metadata": {
    "slideshow": {
     "slide_type": "subslide"
    }
   },
   "outputs": [
    {
     "name": "stdout",
     "output_type": "stream",
     "text": [
      "점수를 입력하세요 : 2\n",
      "짝수입니다\n"
     ]
    }
   ],
   "source": [
    "# 실습!\n",
    "num = int(input(\"점수를 입력하세요 : \"))\n",
    "if num % 2 == 0:\n",
    "    print(\"짝수입니다\")\n",
    "else:\n",
    "    print(\"홀수입니다\")"
   ]
  },
  {
   "cell_type": "markdown",
   "metadata": {
    "slideshow": {
     "slide_type": "slide"
    }
   },
   "source": [
    "## 복수 조건문\n",
    "\n",
    "2개 이상의 조건문을 활용할 경우 `elif <조건식>:`을 활용한다.\n",
    "<center>\n",
    "<img src=\"./images/02/elif.png\", alt=\"elif\">\n",
    "</center>"
   ]
  },
  {
   "cell_type": "markdown",
   "metadata": {
    "slideshow": {
     "slide_type": "subslide"
    }
   },
   "source": [
    "### 실습문제2 - 조건식 2개 이상 활용하기\n",
    "\n",
    "> 조건문을 통해 변수 score에 따른 평점을 출력하세요.\n",
    "\n",
    "|점수|등급|\n",
    "|---|---|\n",
    "|90점 이상|A|\n",
    "|80점 이상|B|\n",
    "|70점 이상|C|\n",
    "|60점 이상|D|\n",
    "|60점 미만|F|\n",
    "\n",
    "--- \n",
    "\n",
    "```\n",
    "예시 출력)\n",
    "B\n",
    "```"
   ]
  },
  {
   "cell_type": "code",
   "execution_count": 5,
   "metadata": {
    "slideshow": {
     "slide_type": "-"
    }
   },
   "outputs": [
    {
     "name": "stdout",
     "output_type": "stream",
     "text": [
      "점수를 입력하세요 : 95\n",
      "A\n"
     ]
    }
   ],
   "source": [
    "# 실습!\n",
    "score = int(input(\"점수를 입력하세요 : \"))\n",
    "# 아래에 코드를 작성하세요.\n",
    "if score >= 90:\n",
    "    print(\"A\")\n",
    "elif score >= 80:\n",
    "    print(\"B\")\n",
    "elif score >= 70:\n",
    "    print(\"C\")\n",
    "elif score >= 60:\n",
    "    print(\"D\")\n",
    "else:\n",
    "    print(\"F\")"
   ]
  },
  {
   "cell_type": "markdown",
   "metadata": {
    "slideshow": {
     "slide_type": "subslide"
    }
   },
   "source": [
    "### 실습문제3 - 중첩 조건문 활용\n",
    "\n",
    "> **위의 실습문제 2코드를 활용하여 \n",
    "95점 이상이면, \"참잘했어요\"를 함께 출력해주세요**\n",
    "\n",
    "--- \n",
    "\n",
    "```\n",
    "예시 출력)\n",
    "A\n",
    "참잘했어요\n",
    "```"
   ]
  },
  {
   "cell_type": "code",
   "execution_count": 6,
   "metadata": {},
   "outputs": [
    {
     "name": "stdout",
     "output_type": "stream",
     "text": [
      "A\n",
      "참잘했어요\n"
     ]
    }
   ],
   "source": [
    "# 실습!\n",
    "score = 96\n",
    "\n",
    "if score >= 90:\n",
    "    print(\"A\")\n",
    "    if score >=95:\n",
    "        print(\"참잘했어요\")\n",
    "elif score >= 80:\n",
    "    print(\"B\")\n",
    "elif score >= 70:\n",
    "    print(\"C\")\n",
    "elif score >= 60:\n",
    "    print(\"D\")\n",
    "else:\n",
    "    print(\"F\")"
   ]
  },
  {
   "cell_type": "markdown",
   "metadata": {
    "slideshow": {
     "slide_type": "slide"
    }
   },
   "source": [
    "## 조건 표현식(Conditional Expression)\n",
    "\n",
    "**활용법**\n",
    "\n",
    "```\n",
    "true_value if <조건식> else false_value\n",
    "```\n",
    "    \n",
    "와 같이 표현식을 작성할 수 있다. 이는 보통 다른 언어에서 활용되는 삼항연산자와 동일하다."
   ]
  },
  {
   "cell_type": "code",
   "execution_count": 7,
   "metadata": {},
   "outputs": [
    {
     "name": "stdout",
     "output_type": "stream",
     "text": [
      "숫자를 입력하세요 : 3\n",
      "3맞음\n"
     ]
    }
   ],
   "source": [
    "a = int(input(\"숫자를 입력하세요 : \"))\n",
    "print('3맞음') if a == 3 else print('3아님')"
   ]
  },
  {
   "cell_type": "markdown",
   "metadata": {
    "slideshow": {
     "slide_type": "subslide"
    }
   },
   "source": [
    "* 표현식은 보통 조건에 따라 값을 정할 때 많이 활용된다."
   ]
  },
  {
   "cell_type": "code",
   "execution_count": 8,
   "metadata": {},
   "outputs": [
    {
     "name": "stdout",
     "output_type": "stream",
     "text": [
      "숫자를 입력하세요 : 4\n",
      "4\n"
     ]
    }
   ],
   "source": [
    "# Q. 아래의 코드는 무엇을 위한 코드일까요?\n",
    "# A. 음수를 모두 0으로 변환하는 코드\n",
    "num = int(input(\"숫자를 입력하세요 : \"))\n",
    "value = num if num >= 0 else 0\n",
    "print(value)"
   ]
  },
  {
   "cell_type": "markdown",
   "metadata": {},
   "source": [
    "### 실습문제 4 - 조건표현식과 동일한 `if`문 작성하기\n",
    "\n",
    "> 다음의 코드와 동일한 `if`문을 작성해보세요.\n",
    "\n",
    "```python\n",
    "num = -5\n",
    "value = num if num >= 0 else 0\n",
    "print(value)\n",
    "```\n",
    "---\n",
    "\n",
    "```\n",
    "예시 출력)\n",
    "0\n",
    "```"
   ]
  },
  {
   "cell_type": "code",
   "execution_count": 9,
   "metadata": {
    "slideshow": {
     "slide_type": "fragment"
    }
   },
   "outputs": [
    {
     "name": "stdout",
     "output_type": "stream",
     "text": [
      "0\n"
     ]
    }
   ],
   "source": [
    "# 여기에 코드를 작성하세요.\n",
    "\n",
    "# 내가 작성한 코드\n",
    "# num = int(input(\"숫자를 입력하세요:\"))\n",
    "# if num >= 0:\n",
    "#     print(num)\n",
    "# else:\n",
    "#     print(0)\n",
    "\n",
    "# 쌤이 작성한 코드\n",
    "num = -5\n",
    "if num >= 0:\n",
    "    value = num\n",
    "else:\n",
    "    value = 0\n",
    "print(value)"
   ]
  },
  {
   "cell_type": "markdown",
   "metadata": {},
   "source": [
    "### 실습문제 5 - 조건표현식 만들어보기\n",
    "\n",
    "> 다음의 코드와 동일한 조건 표현식을 작성해보세요.\n",
    "\n",
    "```python\n",
    "num = 2\n",
    "if num % 2 == 1:\n",
    "    result = '홀수입니다.'\n",
    "else:\n",
    "    result = '짝수입니다.'\n",
    "print(result)\n",
    "```\n",
    "---\n",
    "```\n",
    "예시 출력)\n",
    "짝수입니다.\n",
    "```"
   ]
  },
  {
   "cell_type": "code",
   "execution_count": 10,
   "metadata": {},
   "outputs": [
    {
     "name": "stdout",
     "output_type": "stream",
     "text": [
      "홀수\n"
     ]
    }
   ],
   "source": [
    "# 여기에 코드를 작성하세요.\n",
    "# num = 5\n",
    "# print(\"짝수입니다\") if num % 2 ==0 else print(\"홀수입니다\")\n",
    "\n",
    "num = 5\n",
    "result = (\"홀수\" if num % 2 == 1 else \"짝수\")\n",
    "print(result)"
   ]
  },
  {
   "cell_type": "markdown",
   "metadata": {
    "slideshow": {
     "slide_type": "slide"
    }
   },
   "source": [
    "# 반복문\n",
    "\n",
    "## `while` 문\n",
    "\n",
    "`while`문은 조건식이 참(True)인 경우 반복적으로 코드를 실행합니다. \n",
    "<br>\n",
    "<br>\n",
    "<center> \n",
    "    <img src=\"./images/02/while.png\", alt=\"while\"/>\n",
    "</center>\n",
    "\n",
    "**while 문은 종료조건을 반드시 설정해주어야 합니다.**"
   ]
  },
  {
   "cell_type": "code",
   "execution_count": 11,
   "metadata": {},
   "outputs": [
    {
     "name": "stdout",
     "output_type": "stream",
     "text": [
      "0\n",
      "1\n",
      "2\n",
      "3\n",
      "4\n",
      "끝\n"
     ]
    }
   ],
   "source": [
    "# flowchart를 while문을 통해 코드로 작성해보세요.\n",
    "\n",
    "a = 0\n",
    "while a < 5:\n",
    "    print(a)\n",
    "    a = a + 1 # a+= 1\n",
    "print(\"끝\")"
   ]
  },
  {
   "cell_type": "markdown",
   "metadata": {
    "slideshow": {
     "slide_type": "subslide"
    }
   },
   "source": [
    "<center>\n",
    "    <img src=\"./images/02/while_style.png\", alt=\"\">\n",
    "</center>\n",
    "\n",
    "`while`문 역시 `<조건식>`이후에 `:`이 반드시 필요하며, \n",
    "\n",
    "이후 오는 코드 블록은 `4spaces`로 **들여쓰기**를 해주셔야 합니다."
   ]
  },
  {
   "cell_type": "markdown",
   "metadata": {
    "slideshow": {
     "slide_type": "slide"
    }
   },
   "source": [
    "## `for` 문\n",
    "\n",
    "`for`문은 정해진 범위 내(시퀀스)에서 순차적으로 코드를 실행합니다.\n",
    "\n",
    "<br>\n",
    "<center>\n",
    "    <img src=\"./images/02/loop-for.png\", alt=\"\">\n",
    "</center>"
   ]
  },
  {
   "cell_type": "code",
   "execution_count": 12,
   "metadata": {
    "slideshow": {
     "slide_type": "subslide"
    }
   },
   "outputs": [
    {
     "name": "stdout",
     "output_type": "stream",
     "text": [
      "0\n",
      "1\n",
      "2\n",
      "3\n",
      "4\n",
      "끝\n"
     ]
    }
   ],
   "source": [
    "# flowchart를 for문을 통해 코드로 작성하면 다음과 같습니다.\n",
    "for i in range(5):# for 변수 in 시퀀스(range라는 특정한 시퀀스, range(n)는 0부터 n-1 까지)\n",
    "    print(i) # 같은 변수로 호출\n",
    "print('끝')"
   ]
  },
  {
   "cell_type": "markdown",
   "metadata": {
    "slideshow": {
     "slide_type": "subslide"
    }
   },
   "source": [
    "<center>\n",
    "    <img src=\"./images/02/for_style.png\", alt=\"for_style\">\n",
    "</center>\n",
    "\n",
    "---\n",
    "```\n",
    "for variable in sequence:\n",
    "    code line1\n",
    "    code line2\n",
    "```\n",
    "\n",
    "`for`문은 `sequence`를 순차적으로 **variable**에 값을 바인딩하며, 코드 블록을 시행합니다."
   ]
  },
  {
   "cell_type": "markdown",
   "metadata": {
    "slideshow": {
     "slide_type": "subslide"
    }
   },
   "source": [
    "![for animation](./images/02/for.gif)"
   ]
  },
  {
   "cell_type": "markdown",
   "metadata": {
    "slideshow": {
     "slide_type": "subslide"
    }
   },
   "source": [
    "###  실습문제\n",
    "\n",
    "> 반복문과 조건문만 활용하여 1~30까지 숫자 중에 홀수만 담긴 리스트를 만드세요.\n",
    "\n",
    "list에서 값 추가는 `.append(value)`로 합니다.\n",
    "\n",
    "---\n",
    "```\n",
    "예시 출력)\n",
    "[1, 3, 5, 7, 9, 11, 13, 15, 17, 19, 21, 23, 25, 27, 29]\n",
    "```"
   ]
  },
  {
   "cell_type": "code",
   "execution_count": 13,
   "metadata": {
    "slideshow": {
     "slide_type": "subslide"
    }
   },
   "outputs": [
    {
     "name": "stdout",
     "output_type": "stream",
     "text": [
      "[1, 3, 5, 7, 9, 11, 13, 15, 17, 19, 21, 23, 25, 27, 29]\n"
     ]
    }
   ],
   "source": [
    "# 여기에 코드를 작성하세요.\n",
    "\n",
    "# list = []\n",
    "\n",
    "# for i in range(1,31,2):\n",
    "#     list.append(i)\n",
    "\n",
    "# print(list)\n",
    "\n",
    "\n",
    "numbers = range(31) # 0부터 30까지\n",
    "numbers_odd = []\n",
    "for num in numbers: # num에 첫번째로 0이 들어가게 됨.\n",
    "    if num % 2 == 1:\n",
    "        numbers_odd.append(num)\n",
    "print(numbers_odd)\n"
   ]
  },
  {
   "cell_type": "markdown",
   "metadata": {
    "slideshow": {
     "slide_type": "slide"
    }
   },
   "source": [
    "### index와 함께 `for`문 활용하기\n",
    "\n",
    "`enumerate()`를 활용하면, 추가적인 변수를 활용할 수 있습니다."
   ]
  },
  {
   "cell_type": "code",
   "execution_count": 14,
   "metadata": {},
   "outputs": [
    {
     "name": "stdout",
     "output_type": "stream",
     "text": [
      "(0, '중식')\n",
      "(1, '한식')\n",
      "(2, '선택식')\n"
     ]
    }
   ],
   "source": [
    "# enumerate()를 활용해서 출력해봅시다.\n",
    "\n",
    "lunches = [\"중식\", \"한식\", \"선택식\"]\n",
    "# for index, lunch in enumerate(lunches): # tuple을 만들어 인덱스, 런치에 각각 할당해 사용자에게 전달\n",
    "for lunch in enumerate(lunches):\n",
    "    print(lunch)\n",
    "    #print(index)"
   ]
  },
  {
   "cell_type": "markdown",
   "metadata": {
    "slideshow": {
     "slide_type": "subslide"
    }
   },
   "source": [
    "* `enumerate()`는 [파이썬 표준 라이브러리의 내장함수](https://docs.python.org/ko/3.6/library/functions.html) 중 하나이며, 다음과 같이 구성되어 있다.\n",
    "\n",
    "<center>\n",
    "    <img src=\"./images/02/enumerate.png\", alt=\"enumerate\">\n",
    "</center>"
   ]
  },
  {
   "cell_type": "code",
   "execution_count": 15,
   "metadata": {},
   "outputs": [
    {
     "name": "stdout",
     "output_type": "stream",
     "text": [
      "[(0, 'a'), (1, 'b'), (2, 'c')]\n"
     ]
    }
   ],
   "source": [
    "# enumerate() 함수를 사용하였을 때 어떻게 표현이 되는지 확인해봅시다.\n",
    "\n",
    "classroom = [\"a\", \"b\", \"c\"]\n",
    "print(list(enumerate(classroom)))\n"
   ]
  },
  {
   "cell_type": "code",
   "execution_count": 2,
   "metadata": {},
   "outputs": [
    {
     "name": "stdout",
     "output_type": "stream",
     "text": [
      "[(1, 'a'), (2, 'b'), (3, 'c')]\n"
     ]
    }
   ],
   "source": [
    "# 숫자를 1부터 카운트 할 수도 있습니다.\n",
    "\n",
    "print(list(enumerate(classroom, start=1)))"
   ]
  },
  {
   "cell_type": "markdown",
   "metadata": {
    "slideshow": {
     "slide_type": "subslide"
    }
   },
   "source": [
    "### dictionary 반복문 활용하기\n",
    "\n",
    "기본적으로 dictionary를 `for`문을 시행시키면 다음과 같이 시행됩니다."
   ]
  },
  {
   "cell_type": "code",
   "execution_count": 16,
   "metadata": {},
   "outputs": [
    {
     "name": "stdout",
     "output_type": "stream",
     "text": [
      "teacher\n",
      "student1\n",
      "studnet2\n"
     ]
    }
   ],
   "source": [
    "# 옆자리 친구의 이름을 활용하여 dictionary를 만들어봅시다.\n",
    "\n",
    "gj_classroom = {\n",
    "    \"teacher\" : \"oh\",\n",
    "    \"student1\" : \"park\",\n",
    "    \"studnet2\" : \"kim\"\n",
    "}\n",
    "for member in gj_classroom:\n",
    "    print(member)"
   ]
  },
  {
   "cell_type": "markdown",
   "metadata": {
    "slideshow": {
     "slide_type": "subslide"
    }
   },
   "source": [
    "dictionary의 `key`를 출력함으로써 `value`에도 접근할 수 있기 때문입니다.\n",
    "\n",
    "따라서 dictionary의 value를 출력하기 위해서는 아래와 같이 작성합니다."
   ]
  },
  {
   "cell_type": "code",
   "execution_count": 17,
   "metadata": {},
   "outputs": [
    {
     "name": "stdout",
     "output_type": "stream",
     "text": [
      "oh\n",
      "park\n",
      "kim\n"
     ]
    }
   ],
   "source": [
    "# value를 출력해봅시다.\n",
    "\n",
    "gj_classroom = {\n",
    "    \"teacher\" : \"oh\",\n",
    "    \"student1\" : \"park\",\n",
    "    \"studnet2\" : \"kim\"\n",
    "}\n",
    "for member in gj_classroom:\n",
    "    print(gj_classroom[member])\n",
    "    \n",
    "# 딕셔너리는 key를 []안에 넣어주면 value값이 호출됨."
   ]
  },
  {
   "cell_type": "markdown",
   "metadata": {
    "slideshow": {
     "slide_type": "subslide"
    }
   },
   "source": [
    "* dictionary에서 `for` 활용하는 4가지 방법\n",
    "\n",
    "```python\n",
    "# 0. dictionary (key 반복)\n",
    "for key in dict:\n",
    "    print(key)\n",
    "\n",
    "# 1. key 반복\n",
    "for key in dict.keys():\n",
    "    print(key)\n",
    "    \n",
    "# 2. value 반복    \n",
    "for val in dict.values():\n",
    "    print(val)\n",
    "\n",
    "# 3. key와 value 반복\n",
    "for key, val in dict.items():\n",
    "    print(key, val)\n",
    "\n",
    "```"
   ]
  },
  {
   "cell_type": "markdown",
   "metadata": {
    "slideshow": {
     "slide_type": "subslide"
    }
   },
   "source": [
    "### 실습문제 \n",
    "\n",
    "> 한번 직접 4가지 반복문을 활용해보고 출력되는 결과를 확인해보세요.\n",
    "\n",
    "```\n",
    "classroom = {\"teacher\": \"Kim\", \"student1\": \"Hong\", \"student2\": \"Kang\"}\n",
    "\n",
    "```"
   ]
  },
  {
   "cell_type": "code",
   "execution_count": 18,
   "metadata": {},
   "outputs": [
    {
     "name": "stdout",
     "output_type": "stream",
     "text": [
      "한식\n",
      "중식\n",
      "양식\n",
      "한식\n",
      "중식\n",
      "양식\n",
      "김치찌개\n",
      "짜장면\n",
      "파스타\n",
      "한식 김치찌개\n",
      "중식 짜장면\n",
      "양식 파스타\n"
     ]
    }
   ],
   "source": [
    "# 여기에 코드를 작성하세요.\n",
    "\n",
    "menus = {\n",
    "    \"한식\" : \"김치찌개\",\n",
    "    \"중식\" : \"짜장면\",\n",
    "    \"양식\" : \"파스타\"\n",
    "}\n",
    "\n",
    "for key in menus:\n",
    "    print(key)\n",
    "    \n",
    "for key in menus.keys():\n",
    "    print(key)\n",
    "\n",
    "for val in menus.values():\n",
    "    print(val)\n",
    "\n",
    "for key, val in menus.items():\n",
    "    print(key, val)"
   ]
  },
  {
   "cell_type": "markdown",
   "metadata": {
    "slideshow": {
     "slide_type": "slide"
    }
   },
   "source": [
    "## `break`, `continue`, `else`\n",
    "\n",
    "### `break`\n",
    "\n",
    "`break`문은 반복문을 종료하는 표현입니다. "
   ]
  },
  {
   "cell_type": "code",
   "execution_count": 20,
   "metadata": {},
   "outputs": [
    {
     "name": "stdout",
     "output_type": "stream",
     "text": [
      "0\n",
      "1\n",
      "2\n",
      "3\n"
     ]
    }
   ],
   "source": [
    "# break 문을 활용해봅시다.\n",
    "\n",
    "for i in range(5):\n",
    "    print(i)\n",
    "    if i == 3:\n",
    "        break"
   ]
  },
  {
   "cell_type": "markdown",
   "metadata": {
    "slideshow": {
     "slide_type": "subslide"
    }
   },
   "source": [
    "### `continue` \n",
    "\n",
    "`continue`문은 continue 이후의 코드를 수행하지 않고 다음 요소를 선택해 반복을 계속 수행합니다."
   ]
  },
  {
   "cell_type": "code",
   "execution_count": 21,
   "metadata": {},
   "outputs": [
    {
     "name": "stdout",
     "output_type": "stream",
     "text": [
      "0\n",
      "2\n",
      "4\n"
     ]
    }
   ],
   "source": [
    "# continue를 통해 \n",
    "\n",
    "for i in range(5):\n",
    "    if i % 2 == 1:\n",
    "        continue\n",
    "    print(i)"
   ]
  },
  {
   "cell_type": "markdown",
   "metadata": {
    "slideshow": {
     "slide_type": "subslide"
    }
   },
   "source": [
    "### `else`\n",
    "\n",
    "`else`문은 끝까지 반복문을 시행한 이후에 실행됩니다.\n",
    "\n",
    "(`break`를 통해 중간에 종료되지 않은 경우만 실행)"
   ]
  },
  {
   "cell_type": "code",
   "execution_count": 23,
   "metadata": {},
   "outputs": [
    {
     "name": "stdout",
     "output_type": "stream",
     "text": [
      "0\n",
      "1\n",
      "2\n",
      "3에서 break실행됨\n"
     ]
    }
   ],
   "source": [
    "# break가 안되는 상황을 만들어봅시다.\n",
    "\n",
    "for i in range(5):\n",
    "    if i == 3:\n",
    "        print(f\"{i}에서 break실행됨\")\n",
    "        break # 브레이크로 for문을 탈출하면 else 실행안됨.\n",
    "    print(i)\n",
    "else:\n",
    "    print(\"브레이크걸림?\")"
   ]
  },
  {
   "cell_type": "code",
   "execution_count": null,
   "metadata": {},
   "outputs": [],
   "source": [
    "# break가 되는 상황을 만들어봅시다."
   ]
  },
  {
   "cell_type": "markdown",
   "metadata": {
    "slideshow": {
     "slide_type": "subslide"
    }
   },
   "source": [
    "#### 실습문제\n",
    "\n",
    "> 조건문과 반복문, break, continue 를 통해서 아래의 코드와 동일한 코드를 작성하세요.\n",
    "> \n",
    "> (3이 있을 경우 True를 print하고, 아닐 경우 False를 print 합니다.)\n",
    "\n",
    "\n",
    "```python\n",
    "numbers = [1, 5, 10]\n",
    "print(3 in numbers)\n",
    "```\n",
    "\n",
    "---\n",
    "```\n",
    "예시 출력)\n",
    "False\n",
    "```"
   ]
  },
  {
   "cell_type": "code",
   "execution_count": 102,
   "metadata": {},
   "outputs": [
    {
     "name": "stdout",
     "output_type": "stream",
     "text": [
      "True\n"
     ]
    }
   ],
   "source": [
    "numbers = [1, 5, 10]\n",
    "# 여기에 코드를 작성하세요.\n",
    "\n",
    "# 내가 짠 코드\n",
    "# for i in numbers:\n",
    "#     if i == 3:\n",
    "#         print(\"True\")\n",
    "#         break\n",
    "# else:\n",
    "#     print(\"False\")\n",
    "\n",
    "# 쌤이 짠 코드\n",
    "\n",
    "num = 10\n",
    "\n",
    "for number in numbers:\n",
    "    if number == num:\n",
    "        print(\"True\")\n",
    "        break\n",
    "else:\n",
    "    print(\"False\")"
   ]
  },
  {
   "cell_type": "code",
   "execution_count": 27,
   "metadata": {},
   "outputs": [
    {
     "name": "stdout",
     "output_type": "stream",
     "text": [
      "가로:6\n",
      "세로:6\n",
      "******\n",
      "******\n",
      "******\n",
      "******\n",
      "******\n",
      "******\n",
      "\n"
     ]
    }
   ],
   "source": [
    "# - 두개의 정수 n,m이 주어집니다. 반복문을 사용하지 않고 가로가 n, 세로가 m인 * 로 이루어진 사각형을 출력해주세요\n",
    "\n",
    "# - 예시\n",
    "#     - n : 5 / m : 4\n",
    "#     ```\n",
    "#     *****\n",
    "#     *****\n",
    "#     *****\n",
    "#     *****\n",
    "#     ```\n",
    "\n",
    "n = int(input(\"가로:\"))\n",
    "m = int(input(\"세로:\"))\n",
    "print((\"*\"*n + '\\n') * m)"
   ]
  },
  {
   "cell_type": "code",
   "execution_count": 32,
   "metadata": {},
   "outputs": [
    {
     "name": "stdout",
     "output_type": "stream",
     "text": [
      "83.25\n"
     ]
    }
   ],
   "source": [
    "# 다음 딕셔너리에서 평균 점수를 구하세요\n",
    "\n",
    "student = {'python':80, 'algorithm':78, 'django':95, 'flask':80}\n",
    "\n",
    "# a = 0\n",
    "# for score in student.values():\n",
    "#    a = score + a\n",
    "# print(a/len(student))\n",
    "\n",
    "student.values()\n",
    "\n",
    "print(sum(student.values())/len(student))"
   ]
  },
  {
   "cell_type": "code",
   "execution_count": 36,
   "metadata": {
    "scrolled": true
   },
   "outputs": [
    {
     "name": "stdout",
     "output_type": "stream",
     "text": [
      "A형은 4 명 입니다.\n",
      "B형은 2 명 입니다.\n",
      "O형은 4 명 입니다.\n",
      "AB형은 3 명 입니다.\n"
     ]
    }
   ],
   "source": [
    "# 다음은 학생들의 혈액형(A,B,O,AB)에 대한 데이터 이다.\n",
    "# for문을 활용하여 각 혈액형별 학생수를 구하세요\n",
    "\n",
    "blood = ['A','B','O','A','B','A','AB','AB','O','A','O','AB','O']\n",
    "\n",
    "a = [] # a = 0\n",
    "b = []\n",
    "o = []\n",
    "ab = []\n",
    "for i in blood:\n",
    "    if i == \"A\": \n",
    "        a.append(i) # a += 1\n",
    "    elif i == \"B\":\n",
    "        b.append(i)\n",
    "    elif i == \"O\":\n",
    "        o.append(i)\n",
    "    else:\n",
    "        ab.append(i)\n",
    "        \n",
    "# a_count = a.count\n",
    "\n",
    "print(f\"A형은 {a.count('A')} 명 입니다.\")\n",
    "print(f\"B형은 {b.count('B')} 명 입니다.\")\n",
    "print(f\"O형은 {o.count('O')} 명 입니다.\")\n",
    "print(f\"AB형은 {ab.count('AB')} 명 입니다.\")"
   ]
  },
  {
   "cell_type": "code",
   "execution_count": 38,
   "metadata": {},
   "outputs": [
    {
     "name": "stdout",
     "output_type": "stream",
     "text": [
      "{'A': 4, 'B': 2, 'O': 4, 'AB': 3}\n"
     ]
    }
   ],
   "source": [
    "# 딕셔너리 형태로\n",
    "\n",
    "blood = ['A','B','O','A','B','A','AB','AB','O','A','O','AB','O']\n",
    "\n",
    "blood_dict = {}\n",
    "\n",
    "for b in blood:\n",
    "    if b in blood_dict:\n",
    "        blood_dict[b] += 1\n",
    "    else:\n",
    "        blood_dict[b] = 1\n",
    "print(blood_dict)"
   ]
  },
  {
   "cell_type": "code",
   "execution_count": 31,
   "metadata": {},
   "outputs": [
    {
     "name": "stdout",
     "output_type": "stream",
     "text": [
      "s\n"
     ]
    }
   ],
   "source": [
    "# (QWERTY 키보드를 사용하여 타이핑을 한다고 가정할 때) '편안한 단어'는 타이핑 할 때 손을 번갈아 칠 수 있는 단어를 말합니다.단어를 인자로 받아 그것이 '편안한 단어'인지 여부를 True/False로 반환하는 함수를 만드세요.(모든 단어는 a ~ z까지 오름차순으로 구성된 문자열입니다.)\n",
    "# 문자 목록\n",
    "# 왼손: q, w, e, r, t, a, s, s, d, f, g, z, x, c, v, b\n",
    "# 오른손: y, u, i, o, p, h, j, k, l, n, m\n",
    "\n",
    "# ```python\n",
    "# word = \"jaja\"\n",
    "# left, right = \"qwertasdfgzxcvb\",\"yuiophjklnm\"\n",
    "# ```\n",
    "\n",
    "########## 미완성\n",
    "\n",
    "import random\n",
    "\n",
    "left = [\"q\", \"w\", \"e\", \"r\", \"t\", \"a\", \"s\", \"s\", \"d\", \"f\", \"g\", \"z\", \"x\", \"c\", \"v\", \"b\"]\n",
    "right = [\"y\", \"u\", \"i\", \"o\", \"p\", \"h\", \"j\", \"k\", \"l\", \"n\", \"m\"]\n",
    "\n",
    "import random\n",
    "print(random.choice(left))"
   ]
  },
  {
   "cell_type": "code",
   "execution_count": 52,
   "metadata": {
    "scrolled": true
   },
   "outputs": [
    {
     "name": "stdout",
     "output_type": "stream",
     "text": [
      "{'opening_price': '4262000', 'closing_price': '4315000', 'min_price': '4240000', 'max_price': '4379000', 'average_price': '4312820.1423', 'units_traded': '15794.65558485', 'volume_1day': '15794.65558485', 'volume_7day': '42868.31607964', 'buy_price': '4312000', 'sell_price': '4315000', '24H_fluctate': '53000', '24H_fluctate_rate': '1.24', 'date': '1546499584703'}\n",
      "상승장\n"
     ]
    }
   ],
   "source": [
    "import requests\n",
    "\n",
    "url = \"https://api.bithumb.com/public/ticker/btc\"\n",
    "data = requests.get(url).json()['data']\n",
    "print(data)\n",
    "\n",
    "# 변동폭 : 최고가와 최저가의 차이\n",
    "# 시가 : 시작가\n",
    "# 상승장 : 시가 + 변동폭이 최고가보다 높을 경우\n",
    "# 하락장 : 시가 + 변동폭이 최고가보다 낮을 경우\n",
    "# opening_price : 최근 24시간 내 시작 거래금액\n",
    "# closing_price : 최근 24시간 내 마지막 거래금액\n",
    "# min_price : 최근 24시간 내 최저 거래금액\n",
    "# max_price : 최근 24시간 내 최고 거래금액\n",
    "\n",
    "\n",
    "\n",
    "sum = int(data['opening_price'])+(int(data['max_price'])-int(data['min_price']))\n",
    "\n",
    "if sum > int(data['max_price']):\n",
    "    print(\"상승장\")\n",
    "else:\n",
    "    print(\"하락장\")\n",
    "\n"
   ]
  },
  {
   "cell_type": "code",
   "execution_count": 64,
   "metadata": {},
   "outputs": [
    {
     "name": "stdout",
     "output_type": "stream",
     "text": [
      "BTC : 상승장\n",
      "ETH : 상승장\n",
      "DASH : 상승장\n",
      "LTC : 하락장\n",
      "ETC : 상승장\n",
      "XRP : 상승장\n",
      "BCH : 상승장\n",
      "XMR : 상승장\n",
      "ZEC : 하락장\n",
      "QTUM : 상승장\n",
      "BTG : 상승장\n",
      "EOS : 상승장\n",
      "ICX : 하락장\n",
      "VET : 상승장\n",
      "TRX : 상승장\n",
      "ELF : 하락장\n",
      "MITH : 상승장\n",
      "MCO : 상승장\n",
      "OMG : 상승장\n",
      "KNC : 상승장\n",
      "GNT : 상승장\n",
      "ZIL : 상승장\n",
      "ETHOS : 상승장\n",
      "PAY : 상승장\n",
      "WAX : 상승장\n",
      "POWR : 상승장\n",
      "LRC : 상승장\n",
      "GTO : 상승장\n",
      "STEEM : 상승장\n",
      "STRAT : 상승장\n",
      "ZRX : 상승장\n",
      "REP : 상승장\n",
      "AE : 상승장\n",
      "XEM : 상승장\n",
      "SNT : 상승장\n",
      "ADA : 상승장\n",
      "PPT : 상승장\n",
      "CTXC : 상승장\n",
      "CMT : 상승장\n",
      "THETA : 상승장\n",
      "WTC : 상승장\n",
      "ITC : 상승장\n",
      "TRUE : 하락장\n",
      "ABT : 상승장\n",
      "RNT : 상승장\n",
      "PLY : 상승장\n",
      "WAVES : 상승장\n",
      "LINK : 상승장\n",
      "ENJ : 상승장\n",
      "PST : 상승장\n",
      "SALT : 하락장\n",
      "RDN : 상승장\n",
      "LOOM : 상승장\n",
      "BHPC : 상승장\n",
      "PIVX : 상승장\n",
      "INS : 상승장\n",
      "BCD : 상승장\n",
      "BZNT : 상승장\n",
      "XLM : 상승장\n",
      "OCN : 상승장\n",
      "BSV : 상승장\n",
      "TMTG : 상승장\n",
      "BAT : 상승장\n",
      "WET : 상승장\n",
      "XVG : 상승장\n",
      "IOST : 상승장\n",
      "POLY : 상승장\n",
      "HC : 상승장\n",
      "ROM : 상승장\n",
      "AMO : 상승장\n"
     ]
    }
   ],
   "source": [
    "# 모든 코인 상승장? 하락장?\n",
    "\n",
    "url = \"https://api.bithumb.com/public/ticker/all\"\n",
    "data = requests.get(url).json()['data']\n",
    "\n",
    "#rint(type(data))\n",
    "for name, value in data.items():\n",
    "    if type(value) == type(dict()):\n",
    "        # 상승장인지 하락장인지 확인하기\n",
    "        sum = float(value['opening_price'])+(float(value['max_price'])-float(value['min_price']))\n",
    "        if sum > float(value['max_price']):\n",
    "            print(f\"{name} : 상승장\")\n",
    "        else:\n",
    "            print(f\"{name} : 하락장\")\n",
    "\n",
    "    else:\n",
    "        # 데이터가 없는 코인이기 때문에 다음으로 넘기기\n",
    "        continue\n",
    "#     print(name)\n"
   ]
  },
  {
   "cell_type": "code",
   "execution_count": null,
   "metadata": {},
   "outputs": [],
   "source": []
  }
 ],
 "metadata": {
  "celltoolbar": "Slideshow",
  "kernelspec": {
   "display_name": "Python 3",
   "language": "python",
   "name": "python3"
  },
  "language_info": {
   "codemirror_mode": {
    "name": "ipython",
    "version": 3
   },
   "file_extension": ".py",
   "mimetype": "text/x-python",
   "name": "python",
   "nbconvert_exporter": "python",
   "pygments_lexer": "ipython3",
   "version": "3.6.7"
  },
  "toc": {
   "base_numbering": 1,
   "nav_menu": {},
   "number_sections": true,
   "sideBar": true,
   "skip_h1_title": false,
   "title_cell": "Table of Contents",
   "title_sidebar": "Contents",
   "toc_cell": false,
   "toc_position": {},
   "toc_section_display": true,
   "toc_window_display": false
  }
 },
 "nbformat": 4,
 "nbformat_minor": 2
}

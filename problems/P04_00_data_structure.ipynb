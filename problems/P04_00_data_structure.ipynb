{
 "cells": [
  {
   "cell_type": "markdown",
   "metadata": {},
   "source": [
    "# 편-안한 단어\n",
    "\n",
    ">(QWERTY 키보드를 사용하여 타이핑을 한다고 가정할 때) '편안한 단어'는 타이핑 할 때 손을\n",
    "번갈아 칠 수 있는 단어를 말합니다.단어를 인자로 받아 그것이 '편안한 단어'인지 여부를 True/False로 반환하는 함수를 만드세요.(모든 단어는 a ~ z까지 오름차순으로 구성된 문자열입니다.)\n",
    "\n",
    ">문자 목록\n",
    "- 왼손: q, w, e, r, t, a, s, s, d, f, g, z, x, c, v, b\n",
    "- 오른손: y, u, i, o, p, h, j, k, l, n, m"
   ]
  },
  {
   "cell_type": "code",
   "execution_count": 96,
   "metadata": {},
   "outputs": [],
   "source": [
    "#여기에 코드를 작성하세요\n",
    "\n",
    "left = [\"q\", \"w\", \"e\", \"r\", \"t\", \"a\", \"s\", \"s\", \"d\", \"f\", \"g\", \"z\", \"x\", \"c\", \"v\", \"b\"]\n",
    "right = [\"y\", \"u\", \"i\", \"o\", \"p\", \"h\", \"j\", \"k\", \"l\", \"n\", \"m\"]\n",
    "\n",
    "def comfortable_word(word):\n",
    "    result = False\n",
    "    for idx, val in enumerate(word):\n",
    "        if word[idx-1] in left:\n",
    "            if word[idx] in right:\n",
    "                result = True\n",
    "            else:\n",
    "                return False\n",
    "        else:\n",
    "            if word[idx] in left:\n",
    "                result = True\n",
    "            else:\n",
    "                return False\n",
    "    return result\n"
   ]
  },
  {
   "cell_type": "code",
   "execution_count": 102,
   "metadata": {},
   "outputs": [
    {
     "name": "stdout",
     "output_type": "stream",
     "text": [
      "True\n"
     ]
    }
   ],
   "source": [
    "# 쓰앵님이 작성한 코드\n",
    "\n",
    "def comfortable_word(words):\n",
    "    left = \"qwertasdfgzxcvb\"\n",
    "    right = \"yuiophjklnm\" # 스트링도 시퀀스 가능\n",
    "    l = True if words[0] in left else False # True if <조건문> else False \n",
    "    \n",
    "    for word in words[1:]: # 맨 첫글자 제외하고 for문 시작\n",
    "        if (word in left) and l: # False and True -> False이기 때문에 if문 통과안됨.\n",
    "            return False\n",
    "        if (word in right) and not l: # 두 if 문 모두 왼왼 오오 이면 false리턴\n",
    "            return False\n",
    "        l = not l\n",
    "    return True\n",
    "            \n",
    "print(comfortable_word(\"qywu\"))\n",
    "            \n",
    "\n"
   ]
  },
  {
   "cell_type": "code",
   "execution_count": null,
   "metadata": {},
   "outputs": [],
   "source": [
    "def comfortable_word(words):\n",
    "    left = \"qwertasdfgzxcvb\"\n",
    "    right = \"yuiophjklnm\" # 스트링도 시퀀스 가능\n",
    "    \n",
    "    before_hand = \"왼손\" if words[0] in left else \"오른손\" # True if <조건문> else False \n",
    "    \n",
    "    for word in words[1:]: # 맨 첫글자 제외하고 for문 시작\n",
    "        if (word in left) and before_hand == \"왼손\": # False and True -> False이기 때문에 if문 통과안됨.\n",
    "            return False\n",
    "        if (word in right) and before_hand == \"오른손\": # 두 if 문 모두 왼왼 오오 이면 false리턴\n",
    "            return False\n",
    "        before_hand = \"오른손\" if before_hand == \"왼손\" else \"왼손\"\n",
    "    return True\n",
    "            \n",
    "print(comfortable_word(\"akakakakakakaka\"))"
   ]
  },
  {
   "cell_type": "code",
   "execution_count": 99,
   "metadata": {},
   "outputs": [
    {
     "name": "stdout",
     "output_type": "stream",
     "text": [
      "y\n",
      "w\n",
      "u\n",
      "None\n",
      "p\n",
      "p\n",
      "l\n",
      "e\n",
      "None\n",
      "u\n",
      "e\n",
      "i\n",
      "r\n",
      "o\n",
      "t\n",
      "p\n",
      "a\n",
      "h\n",
      "j\n",
      "k\n",
      "s\n",
      "None\n"
     ]
    }
   ],
   "source": [
    "print(comfortable_word(\"qywu\"))\n",
    "print(comfortable_word(\"apple\"))\n",
    "print(comfortable_word(\"queirotpahjks\"))"
   ]
  },
  {
   "cell_type": "markdown",
   "metadata": {},
   "source": [
    "# 달팽이는 미끌미끌\n",
    "\n",
    ">달팽이는 낮 시간 동안에 기둥을 올라갑니다. 하지만 밤에는 잠을 자면서 어느 정도의 거리만큼미끄러집니다. (낮 시간 동안 올라간 거리보다는 적게 미끄러집니다) 달팽이가 기둥의 꼭대기에 도달하는 날까지 걸리는 시간을 계산하면 됩니다.\n",
    "\n",
    "> 당신의 함수에 들어가야 하는 3개의 인자는 다음과 같습니다.\n",
    "- 기둥의 높이(미터)\n",
    "- 낮 시간 동안 달팽이가 올라가는 거리(미터)\n",
    "- 달팽이가 야간에 잠을 자는 동안 미끄러지는 거리(미터)\n",
    "\n",
    "```\n",
    "snail(100, 5, 2)\n",
    "33\n",
    "```"
   ]
  },
  {
   "cell_type": "code",
   "execution_count": 106,
   "metadata": {},
   "outputs": [],
   "source": [
    "# 여기에 코드를 작성하세요\n",
    "import math\n",
    "    \n",
    "def snail(height, day, night):\n",
    "    hour = height / (day - night)\n",
    "    \n",
    "    return math.trunc(hour)"
   ]
  },
  {
   "cell_type": "code",
   "execution_count": 104,
   "metadata": {},
   "outputs": [],
   "source": [
    "# 쓰앵님\n",
    "\n",
    "def snail(height, day, night):\n",
    "    count = 0\n",
    "    while True: # while문 계속 반복\n",
    "        height = height - day\n",
    "        if height <= 0:\n",
    "            count += 1\n",
    "            return count\n",
    "        # 낮에 아직 높이에 도달하지 못하면 밤이 됨\n",
    "        height = height + night\n",
    "        count += 1"
   ]
  },
  {
   "cell_type": "code",
   "execution_count": null,
   "metadata": {},
   "outputs": [],
   "source": [
    "\n",
    "    "
   ]
  },
  {
   "cell_type": "code",
   "execution_count": 108,
   "metadata": {},
   "outputs": [
    {
     "name": "stdout",
     "output_type": "stream",
     "text": [
      "142\n"
     ]
    }
   ],
   "source": [
    "print(snail(1000, 9, 2))"
   ]
  }
 ],
 "metadata": {
  "kernelspec": {
   "display_name": "Python 3",
   "language": "python",
   "name": "python3"
  },
  "language_info": {
   "codemirror_mode": {
    "name": "ipython",
    "version": 3
   },
   "file_extension": ".py",
   "mimetype": "text/x-python",
   "name": "python",
   "nbconvert_exporter": "python",
   "pygments_lexer": "ipython3",
   "version": "3.6.7"
  },
  "latex_envs": {
   "LaTeX_envs_menu_present": true,
   "autoclose": false,
   "autocomplete": true,
   "bibliofile": "biblio.bib",
   "cite_by": "apalike",
   "current_citInitial": 1,
   "eqLabelWithNumbers": true,
   "eqNumInitial": 1,
   "hotkeys": {
    "equation": "Ctrl-E",
    "itemize": "Ctrl-I"
   },
   "labels_anchors": false,
   "latex_user_defs": false,
   "report_style_numbering": false,
   "user_envs_cfg": false
  },
  "toc": {
   "base_numbering": 1,
   "nav_menu": {},
   "number_sections": true,
   "sideBar": true,
   "skip_h1_title": false,
   "title_cell": "Table of Contents",
   "title_sidebar": "Contents",
   "toc_cell": false,
   "toc_position": {},
   "toc_section_display": true,
   "toc_window_display": false
  }
 },
 "nbformat": 4,
 "nbformat_minor": 2
}

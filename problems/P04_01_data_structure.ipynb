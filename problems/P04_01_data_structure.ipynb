{
 "cells": [
  {
   "cell_type": "markdown",
   "metadata": {},
   "source": [
    "# 소대소대\n",
    "> 단어의 짝수번째 알파벳은 대문자로, 홀수번째 알파벳은 소문자로 바꾼 문자열을 return 하는 함수 up_and_low을 작성하세요.\n",
    "\n",
    "예시)\n",
    "```\n",
    "up_and_low('applepie') #=> aPpLePiE\n",
    "up_and_low('spaceship') #=> sPaCeShIp\n",
    "```"
   ]
  },
  {
   "cell_type": "code",
   "execution_count": 81,
   "metadata": {},
   "outputs": [],
   "source": [
    "# 여기에 코드를 작성하세요.\n",
    "def up_and_low(a):\n",
    "    list = []\n",
    "    for idx, val in enumerate(a):\n",
    "        if idx % 2 == 0: \n",
    "            list.append(val.lower())\n",
    "        else:\n",
    "            list.append(val.upper())\n",
    "    return \"\".join(list)"
   ]
  },
  {
   "cell_type": "code",
   "execution_count": 86,
   "metadata": {},
   "outputs": [],
   "source": [
    "def up_and_low(words):\n",
    "    result = \"\"\n",
    "    for idx, val in enumerate(words):\n",
    "        if idx % 2: # 0이면 False -> 홀수임, 1이면 True (짝수)\n",
    "            result += val.upper()\n",
    "        else:\n",
    "            result += val.lower()\n",
    "    return result"
   ]
  },
  {
   "cell_type": "code",
   "execution_count": 91,
   "metadata": {},
   "outputs": [],
   "source": [
    "def up_and_low(words):\n",
    "    result = [spel.upper() if idx % 2 else spel.lower() for idx, spel in enumerate(words)]\n",
    "    return \"\".join(result)\n",
    "    "
   ]
  },
  {
   "cell_type": "code",
   "execution_count": 92,
   "metadata": {},
   "outputs": [
    {
     "name": "stdout",
     "output_type": "stream",
     "text": [
      "aPpLePiE\n",
      "sPaCeShIp\n"
     ]
    }
   ],
   "source": [
    "# 해당 코드를 통해 올바른 결과가 나오는지 확인하세요.\n",
    "print(up_and_low('applepie'))\n",
    "print(up_and_low('spaceship'))"
   ]
  },
  {
   "cell_type": "markdown",
   "metadata": {},
   "source": [
    "# 숫자 패턴\n",
    "\n",
    "> 원하는 행까지 아래의 패턴을 생성하는 함수 pattern를 작성하세요. 만약 인자가 0이나 음의 정수인 경우 \"\" 즉, 빈 문자열로 반환하세요. 짝수가 인수로 전달되면 패턴은 통과된 짝수보다 작은 최대 홀수까지 계속되어야 합니다.\n",
    "\n",
    "```\n",
    "pattern(9)\n",
    "\n",
    "1\n",
    "333\n",
    "55555\n",
    "7777777\n",
    "999999999\n",
    "\n",
    "pattern(6)\n",
    "\n",
    "1\n",
    "333\n",
    "55555\n",
    "```\n",
    "\n",
    "주의)\n",
    "\n",
    "- 패턴에 공백은 없습니다.\n",
    "- 함수 내부에서 print()를 사용하는 것이 아니라, 하나의 문자열을 return하여서 출력하여야 합니다."
   ]
  },
  {
   "cell_type": "code",
   "execution_count": 109,
   "metadata": {
    "scrolled": false
   },
   "outputs": [],
   "source": [
    "# 여기에 코드를 작성하세요.\n",
    "\n",
    "def pattern(a):\n",
    "    for i in range(1,a):\n",
    "        if i <= a:\n",
    "            i += 2\n",
    "            continue\n",
    "        else:\n",
    "            break\n",
    "    return id\n"
   ]
  },
  {
   "cell_type": "code",
   "execution_count": 116,
   "metadata": {},
   "outputs": [],
   "source": [
    "def pattern(n):\n",
    "    string = \"\"\n",
    "    if n % 2 == 0:\n",
    "        n -= 1\n",
    "    for i in range(1,n+1):\n",
    "        if i % 2: #(true면, 홀수면)\n",
    "            string += str(i) * i\n",
    "            if i != n:\n",
    "                string += \"\\n\"\n",
    "    return string\n",
    "            \n",
    "# def pattern(n):\n",
    "#     result = [str(num)*num for num in range(1,n+1) if num%2]\n",
    "#     return \"\\n\".join(result)"
   ]
  },
  {
   "cell_type": "code",
   "execution_count": 117,
   "metadata": {},
   "outputs": [
    {
     "name": "stdout",
     "output_type": "stream",
     "text": [
      "1\n",
      "333\n",
      "55555\n",
      "7777777\n",
      "999999999\n",
      "\n",
      "1\n",
      "333\n",
      "55555\n"
     ]
    }
   ],
   "source": [
    "# 해당 코드를 통해 올바른 결과가 나오는지 확인하세요.\n",
    "print(pattern(9))\n",
    "print()\n",
    "print(pattern(6))"
   ]
  },
  {
   "cell_type": "markdown",
   "metadata": {},
   "source": [
    "# 무엇이 중복일까\n",
    "\n",
    ">중복된 요소만 뽑아서 출력하는 duplicated 함수를 작성하시오.\n",
    "\n",
    "```\n",
    "duplicated(['a', 'b', 'c', 'b', 'd', 'm', 'n', 'n', 'b']) #=> ['b', 'n']\n",
    "```"
   ]
  },
  {
   "cell_type": "code",
   "execution_count": 107,
   "metadata": {},
   "outputs": [
    {
     "name": "stdout",
     "output_type": "stream",
     "text": [
      "['b', 'n']\n"
     ]
    }
   ],
   "source": [
    "# 여기에 코드를 작성하세요\n",
    "# 왜왜왜왜오애ㅗ애ㅗ애ㅗ애ㅗ애ㅗ애ㅗ애ㅗ왜안돼!\n",
    "def duplicated(a):\n",
    "    new_list = []\n",
    "    for idx,val in enumerate(a):\n",
    "        if val in a[idx+1:]:\n",
    "            if val not in new_list:\n",
    "                new_list.append(val)\n",
    "\n",
    "    return new_list\n",
    "print(duplicated(['a', 'b', 'c', 'b', 'd', 'm', 'n', 'n', 'b']))"
   ]
  },
  {
   "cell_type": "code",
   "execution_count": 83,
   "metadata": {},
   "outputs": [],
   "source": [
    "def duplicated(a):\n",
    "    nnew_list =[]\n",
    "    for i in a:\n",
    "        if a.count(i) > 1:\n",
    "            nnew_list.append(i)\n",
    "\n",
    "    return list(set(nnew_list))"
   ]
  },
  {
   "cell_type": "code",
   "execution_count": 94,
   "metadata": {},
   "outputs": [],
   "source": [
    "def duplicated(words):\n",
    "    result = []\n",
    "    for spel in words:\n",
    "        if words.count(spel) >=2:\n",
    "            if spel not in result:\n",
    "                result.append(spel)\n",
    "    return result"
   ]
  },
  {
   "cell_type": "code",
   "execution_count": 101,
   "metadata": {},
   "outputs": [],
   "source": [
    "def duplicated(words):\n",
    "    return list({spel for spel in words if words.count(spel) > 1})"
   ]
  },
  {
   "cell_type": "code",
   "execution_count": 108,
   "metadata": {
    "scrolled": true
   },
   "outputs": [
    {
     "name": "stdout",
     "output_type": "stream",
     "text": [
      "['b', 'n']\n"
     ]
    }
   ],
   "source": [
    "# 해당 코드를 통해 올바른 결과가 나오는지 확인하세요.\n",
    "print(duplicated(['a', 'b', 'c', 'b', 'd', 'm', 'n', 'n', 'b']))"
   ]
  }
 ],
 "metadata": {
  "kernelspec": {
   "display_name": "Python 3",
   "language": "python",
   "name": "python3"
  },
  "language_info": {
   "codemirror_mode": {
    "name": "ipython",
    "version": 3
   },
   "file_extension": ".py",
   "mimetype": "text/x-python",
   "name": "python",
   "nbconvert_exporter": "python",
   "pygments_lexer": "ipython3",
   "version": "3.6.7"
  },
  "latex_envs": {
   "LaTeX_envs_menu_present": true,
   "autoclose": false,
   "autocomplete": true,
   "bibliofile": "biblio.bib",
   "cite_by": "apalike",
   "current_citInitial": 1,
   "eqLabelWithNumbers": true,
   "eqNumInitial": 1,
   "hotkeys": {
    "equation": "Ctrl-E",
    "itemize": "Ctrl-I"
   },
   "labels_anchors": false,
   "latex_user_defs": false,
   "report_style_numbering": false,
   "user_envs_cfg": false
  },
  "toc": {
   "base_numbering": 1,
   "nav_menu": {},
   "number_sections": true,
   "sideBar": true,
   "skip_h1_title": false,
   "title_cell": "Table of Contents",
   "title_sidebar": "Contents",
   "toc_cell": false,
   "toc_position": {},
   "toc_section_display": true,
   "toc_window_display": false
  }
 },
 "nbformat": 4,
 "nbformat_minor": 2
}

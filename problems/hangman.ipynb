{
 "cells": [
  {
   "cell_type": "markdown",
   "metadata": {},
   "source": [
    "# 행맨 게임 만들기 "
   ]
  },
  {
   "cell_type": "markdown",
   "metadata": {},
   "source": [
    "## 답안 확인 하기\n",
    "\n",
    "> 행맨 게임을 위한 코드를 작성해봅시다. \n",
    ">\n",
    "> `isanswer(answer, letters)`는 정답(answer)과 추측 알파벳의 리스트(letters)를 받아서, True/False 결과를 나타냅니다.\n",
    "\n",
    "```\n",
    "예시) \n",
    "isanswer('apple', ['a', 'p', 'l'])\n",
    "\n",
    "False\n",
    "```"
   ]
  },
  {
   "cell_type": "code",
   "execution_count": 1,
   "metadata": {
    "scrolled": true
   },
   "outputs": [
    {
     "data": {
      "text/plain": [
       "False"
      ]
     },
     "execution_count": 1,
     "metadata": {},
     "output_type": "execute_result"
    }
   ],
   "source": [
    "# 여기에 코드를 작성해주세요\n",
    "def isanswer(answer, letters):\n",
    "    answer = set(answer)\n",
    "    count = 0\n",
    "    for letter in letters:\n",
    "        if letter in answer:\n",
    "            count += 1\n",
    "    result = len(answer) == count\n",
    "    return result\n",
    "\n",
    "isanswer(\"apple\",['a','p','l'])"
   ]
  },
  {
   "cell_type": "markdown",
   "metadata": {},
   "source": [
    "## 현재 상태 출력하기\n",
    "\n",
    "> 행맨 게임을 위한 코드를 작성해봅시다. \n",
    ">\n",
    "> `status(answer, letters)`는 정답(answer)과 추측 알파벳의 리스트(letters)를 받아서, 현재 결과를 나타냅니다.\n",
    "\n",
    "```\n",
    "예시)\n",
    "status('apple', ['a', 'p', 'l'])\n",
    "\n",
    "'appl_'\n",
    "```"
   ]
  },
  {
   "cell_type": "code",
   "execution_count": 2,
   "metadata": {},
   "outputs": [
    {
     "data": {
      "text/plain": [
       "'a__l_'"
      ]
     },
     "execution_count": 2,
     "metadata": {},
     "output_type": "execute_result"
    }
   ],
   "source": [
    "# 여기에 코드를 작성해주세요\n",
    "def status(answer, letters):\n",
    "    for spel in answer:\n",
    "        if spel not in letters:\n",
    "            answer = answer.replace(spel,\"_\")\n",
    "    return answer\n",
    "        \n",
    "status(\"apple\",[\"a\",'l'])"
   ]
  },
  {
   "cell_type": "markdown",
   "metadata": {},
   "source": [
    "## 행맨 로직 만들기 - 자유코딩!\n",
    "\n",
    "> 위의 함수를 활용하여 `hangman(answer)`를 만들어봅시다!\n",
    ">\n",
    "> 사용자가 답을 맞출 때까지 진행하며, 8번내로 정답을 맞춰야 합니다.\n",
    "\n",
    "추가적인 함수를 만들어도 좋습니다! 완성하신 분들은 옆사람이랑 게임을 진행해봅시다 :)"
   ]
  },
  {
   "cell_type": "code",
   "execution_count": null,
   "metadata": {},
   "outputs": [],
   "source": [
    "# 여기에 코드를 작성해주세요.\n",
    "\n",
    "\n",
    "answer = \"hangman\"\n",
    "enter = input(\"다른 알파벳을 입력해주세요: \")\n",
    "\n",
    "def hangman(a):\n",
    "    \n",
    "    i = 0\n",
    "    while i <= 8:\n",
    "        if a in answer:\n",
    "            print(\"맞음\") \n",
    "            i += 1\n",
    "            continue\n",
    "            print(enter)\n",
    "            if enter in answer:\n",
    "                i += 1\n",
    "\n",
    "                return True\n",
    "        else:\n",
    "            return False\n",
    "\n"
   ]
  },
  {
   "cell_type": "code",
   "execution_count": 3,
   "metadata": {},
   "outputs": [],
   "source": [
    "\n",
    "# 여기에 코드를 작성해주세요\n",
    "def hangman(answer):\n",
    "    HANGMANPICS = ['''\n",
    "  +---+\n",
    "      |\n",
    "      |\n",
    "      |\n",
    "      |\n",
    "      |\n",
    "=========''','''\n",
    "  +---+\n",
    "  |   |\n",
    "      |\n",
    "      |\n",
    "      |\n",
    "      |\n",
    "=========''','''\n",
    "  +---+\n",
    "  |   |\n",
    "  O   |\n",
    "  |   |\n",
    "      |\n",
    "      |\n",
    "=========''','''\n",
    "  +---+\n",
    "  |   |\n",
    "  O   |\n",
    " /|\\  |\n",
    "      |\n",
    "      |\n",
    "=========''','''\n",
    "  +---+\n",
    "  |   |\n",
    "  O   |\n",
    " /|\\  |\n",
    " / \\  |\n",
    "      |\n",
    "=========''']\n",
    "    letters = []\n",
    "    attempt = 5\n",
    "    print('****게임을 시작하지****')\n",
    "    print('****5번 틀리면 종료****')\n",
    "    while True:\n",
    "        print(f'남은시도 : {attempt}')\n",
    "        print(HANGMANPICS[-attempt])\n",
    "        print(f'{status(answer, letters):^20}\\n')\n",
    "        guess = input('단어를 입력하세요: ')\n",
    "        guess = guess.lower()\n",
    "        letters.append(guess)\n",
    "        result = status(answer, letters)\n",
    "        count = result.count(guess)\n",
    "        if guess in answer:\n",
    "            print(f'오 {count}개 있다!') \n",
    "        else:\n",
    "            print('틀렸지롱!')\n",
    "            attempt -= 1\n",
    "\n",
    "        if isanswer(answer, letters):\n",
    "            return '성공'\n",
    "\n",
    "        if attempt == 0:\n",
    "            return '실패'\n",
    "        print('='*20, end='\\n\\n')"
   ]
  },
  {
   "cell_type": "code",
   "execution_count": null,
   "metadata": {},
   "outputs": [],
   "source": []
  },
  {
   "cell_type": "code",
   "execution_count": null,
   "metadata": {},
   "outputs": [
    {
     "name": "stdout",
     "output_type": "stream",
     "text": [
      "****게임을 시작하지****\n",
      "****5번 틀리면 종료****\n",
      "남은시도 : 5\n",
      "\n",
      "  +---+\n",
      "      |\n",
      "      |\n",
      "      |\n",
      "      |\n",
      "      |\n",
      "=========\n",
      "       _____        \n",
      "\n",
      "단어를 입력하세요: a\n",
      "오 1개 있다!\n",
      "====================\n",
      "\n",
      "남은시도 : 5\n",
      "\n",
      "  +---+\n",
      "      |\n",
      "      |\n",
      "      |\n",
      "      |\n",
      "      |\n",
      "=========\n",
      "       a____        \n",
      "\n",
      "단어를 입력하세요: p\n",
      "오 2개 있다!\n",
      "====================\n",
      "\n",
      "남은시도 : 5\n",
      "\n",
      "  +---+\n",
      "      |\n",
      "      |\n",
      "      |\n",
      "      |\n",
      "      |\n",
      "=========\n",
      "       app__        \n",
      "\n",
      "단어를 입력하세요: O\n",
      "틀렸지롱!\n",
      "====================\n",
      "\n",
      "남은시도 : 4\n",
      "\n",
      "  +---+\n",
      "  |   |\n",
      "      |\n",
      "      |\n",
      "      |\n",
      "      |\n",
      "=========\n",
      "       app__        \n",
      "\n",
      "단어를 입력하세요: L\n",
      "오 1개 있다!\n",
      "====================\n",
      "\n",
      "남은시도 : 4\n",
      "\n",
      "  +---+\n",
      "  |   |\n",
      "      |\n",
      "      |\n",
      "      |\n",
      "      |\n",
      "=========\n",
      "       appl_        \n",
      "\n"
     ]
    }
   ],
   "source": [
    "# 행맨 게임을 시작해봅시다!\n",
    "hangman('apple')"
   ]
  }
 ],
 "metadata": {
  "kernelspec": {
   "display_name": "Python 3",
   "language": "python",
   "name": "python3"
  },
  "language_info": {
   "codemirror_mode": {
    "name": "ipython",
    "version": 3
   },
   "file_extension": ".py",
   "mimetype": "text/x-python",
   "name": "python",
   "nbconvert_exporter": "python",
   "pygments_lexer": "ipython3",
   "version": "3.6.7"
  },
  "latex_envs": {
   "LaTeX_envs_menu_present": true,
   "autoclose": false,
   "autocomplete": true,
   "bibliofile": "biblio.bib",
   "cite_by": "apalike",
   "current_citInitial": 1,
   "eqLabelWithNumbers": true,
   "eqNumInitial": 1,
   "hotkeys": {
    "equation": "Ctrl-E",
    "itemize": "Ctrl-I"
   },
   "labels_anchors": false,
   "latex_user_defs": false,
   "report_style_numbering": false,
   "user_envs_cfg": false
  },
  "toc": {
   "base_numbering": 1,
   "nav_menu": {},
   "number_sections": true,
   "sideBar": true,
   "skip_h1_title": false,
   "title_cell": "Table of Contents",
   "title_sidebar": "Contents",
   "toc_cell": false,
   "toc_position": {},
   "toc_section_display": true,
   "toc_window_display": false
  }
 },
 "nbformat": 4,
 "nbformat_minor": 2
}
